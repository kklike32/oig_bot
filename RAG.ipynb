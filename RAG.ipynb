{
 "cells": [
  {
   "cell_type": "code",
   "execution_count": 1,
   "metadata": {},
   "outputs": [
    {
     "name": "stderr",
     "output_type": "stream",
     "text": [
      "/home/opc/.conda/envs/oig/lib/python3.9/site-packages/tqdm/auto.py:21: TqdmWarning: IProgress not found. Please update jupyter and ipywidgets. See https://ipywidgets.readthedocs.io/en/stable/user_install.html\n",
      "  from .autonotebook import tqdm as notebook_tqdm\n"
     ]
    },
    {
     "name": "stdout",
     "output_type": "stream",
     "text": [
      "Successfully imported libraries and modules\n"
     ]
    }
   ],
   "source": [
    "import sys\n",
    "import array\n",
    "import time\n",
    "import oci\n",
    "import os\n",
    "from dotenv import load_dotenv\n",
    "from PyPDF2 import PdfReader\n",
    "import oracledb\n",
    "from langchain_community.vectorstores import oraclevs\n",
    "from langchain_community.vectorstores.oraclevs import OracleVS\n",
    "from langchain_community.vectorstores.utils import DistanceStrategy\n",
    "from langchain_core.documents import Document\n",
    "from langchain_huggingface import HuggingFaceEmbeddings\n",
    "from ads.llm import GenerativeAIEmbeddings, GenerativeAI\n",
    "from sentence_transformers import CrossEncoder\n",
    "from langchain.text_splitter import CharacterTextSplitter\n",
    "from langchain_community.embeddings import HuggingFaceEmbeddings\n",
    "from langchain_community.vectorstores.utils import DistanceStrategy\n",
    "from langchain_core.documents import BaseDocumentTransformer, Document\n",
    "from langchain_community.llms import OCIGenAI\n",
    "from langchain_core.prompts import PromptTemplate\n",
    "from langchain.chains import LLMChain\n",
    "from langchain_core.runnables import RunnablePassthrough\n",
    "from langchain_core.output_parsers import StrOutputParser\n",
    "import requests\n",
    "from PyPDF2 import PdfReader\n",
    "from io import BytesIO\n",
    "print(\"Successfully imported libraries and modules\")"
   ]
  },
  {
   "cell_type": "code",
   "execution_count": 2,
   "metadata": {},
   "outputs": [
    {
     "name": "stdout",
     "output_type": "stream",
     "text": [
      "Successfully defined metadata wrapper\n"
     ]
    }
   ],
   "source": [
    "def chunks_to_docs_wrapper(row: dict) -> Document:\n",
    "    \"\"\"\n",
    "    Converts text into a Document object suitable for ingestion into Oracle Vector Store.\n",
    "    - row (dict): A dictionary representing a row of data with keys for 'id', 'link', and 'text'.\n",
    "    \"\"\"\n",
    "    metadata = {'id': row['id'], 'link': row['link']}\n",
    "    return Document(page_content=row['text'], metadata=metadata)\n",
    "\n",
    "print(\"Successfully defined metadata wrapper\")\n"
   ]
  },
  {
   "cell_type": "code",
   "execution_count": 3,
   "metadata": {},
   "outputs": [
    {
     "name": "stdout",
     "output_type": "stream",
     "text": [
      "The database user name is: admin\n",
      "Connection successful!\n"
     ]
    }
   ],
   "source": [
    "load_dotenv()\n",
    "\n",
    "username = os.getenv(\"DB_USERNAME\")\n",
    "password = os.getenv(\"DB_PASSWORD\")\n",
    "dsn = os.getenv(\"DB_DSN\")\n",
    "COMPARTMENT_OCID = os.getenv(\"COMPARTMENT_OCID\")\n",
    "\n",
    "print(\"The database user name is:\", username)\n",
    "\n",
    "try: \n",
    "    conn23c = oracledb.connect(user=username, password=password, dsn=dsn)\n",
    "    print(\"Connection successful!\")\n",
    "except Exception as e:\n",
    "    print(\"Connection failed!\")\n"
   ]
  },
  {
   "cell_type": "code",
   "execution_count": 4,
   "metadata": {},
   "outputs": [],
   "source": [
    "def load_pdf_from_url(url):\n",
    "    \"\"\"\n",
    "    Downloads a PDF from the given URL and returns a PdfReader object.\n",
    "    :param url: The URL of the PDF file.\n",
    "    :return: PdfReader object.\n",
    "    \"\"\"\n",
    "    response = requests.get(url)\n",
    "    if response.status_code == 200:\n",
    "        pdf_file = BytesIO(response.content)\n",
    "        return PdfReader(pdf_file)\n",
    "    else:\n",
    "        print(f\"Failed to download PDF from {url}\")\n",
    "        return None\n"
   ]
  },
  {
   "cell_type": "code",
   "execution_count": 5,
   "metadata": {},
   "outputs": [
    {
     "name": "stdout",
     "output_type": "stream",
     "text": [
      "PDF 1 loaded successfully with 5 pages.\n",
      "PDF 2 loaded successfully with 719 pages.\n",
      "PDF 3 loaded successfully with 810 pages.\n",
      "PDF 4 loaded successfully with 83 pages.\n",
      "PDF 5 loaded successfully with 281 pages.\n",
      "PDF 6 loaded successfully with 486 pages.\n",
      "PDF 7 loaded successfully with 325 pages.\n"
     ]
    }
   ],
   "source": [
    "pdf_urls = [\n",
    "    # Performing Self Service Tasks with Oracle Identity Governance\n",
    "    \"https://docs.oracle.com/en/middleware/idm/identity-governance/12.2.1.4/oigdk/reference-oracle-identity-governance-docker-and-kubernetes.pdf\",\n",
    "\n",
    "    # https://docs.oracle.com/en/middleware/idm/identity-governance/12.2.1.4/oigdk/reference-oracle-identity-governance-docker-and-kubernetes.pdf\n",
    "    \"https://docs.oracle.com/en/middleware/idm/identity-governance/12.2.1.4/omadm/administering-oracle-identity-governance.pdf\",\n",
    "\n",
    "    # Developing and Customizing Applications for Oracle Identity Governance\n",
    "    \"https://docs.oracle.com/en/middleware/idm/identity-governance/12.2.1.4/omdev/developing-and-customizing-applications-oracle-identity-governance.pdf\",\n",
    "\n",
    "    # Release Notes for Oracle Identity Management\n",
    "    \"https://docs.oracle.com/en/middleware/idm/suite/12.2.1.4/idmrn/release-notes-oracle-identity-management.pdf\",\n",
    "\n",
    "    # Upgrading Oracle Identity Manager\n",
    "    \"https://docs.oracle.com/en/middleware/fusion-middleware/12.2.1.4/iamup/upgrading-oracle-identity-manager.pdf\",\n",
    "\n",
    "    # Performing Self Service Tasks with Oracle Identity Governance\n",
    "    \"https://docs.oracle.com/en/middleware/idm/identity-governance/12.2.1.4/omusg/performing-self-service-tasks-oracle-identity-governance.pdf\",\n",
    "\n",
    "    # Help Topics for Oracle Identity Governance\n",
    "    \"https://docs.oracle.com/en/middleware/idm/identity-governance/12.2.1.4/omhlp/help-topics-oracle-identity-governance.pdf\"\n",
    "\n",
    "]\n",
    "\n",
    "pdf_readers = [load_pdf_from_url(url) for url in pdf_urls]\n",
    "\n",
    "# Check if all PDFs were loaded successfully\n",
    "for i, pdf in enumerate(pdf_readers):\n",
    "    if pdf:\n",
    "        print(f\"PDF {i+1} loaded successfully with {len(pdf.pages)} pages.\")\n",
    "    else:\n",
    "        print(f\"PDF {i+1} failed to load.\")\n"
   ]
  },
  {
   "cell_type": "code",
   "execution_count": 6,
   "metadata": {},
   "outputs": [
    {
     "name": "stdout",
     "output_type": "stream",
     "text": [
      "Processed PDF with 5 pages.\n",
      "Processed PDF with 719 pages.\n",
      "Processed PDF with 810 pages.\n",
      "Processed PDF with 83 pages.\n",
      "Processed PDF with 281 pages.\n",
      "Processed PDF with 486 pages.\n",
      "Processed PDF with 325 pages.\n"
     ]
    }
   ],
   "source": [
    "for pdf in pdf_readers:\n",
    "    if pdf:\n",
    "        text = \"\"\n",
    "        for page in pdf.pages:\n",
    "            text += page.extract_text()\n",
    "        # Process the text as needed\n",
    "        print(f\"Processed PDF with {len(pdf.pages)} pages.\")\n"
   ]
  },
  {
   "cell_type": "code",
   "execution_count": 7,
   "metadata": {},
   "outputs": [],
   "source": [
    "text_splitter = CharacterTextSplitter(separator=\"\\n\", chunk_size=800, chunk_overlap=100, length_function=len)\n",
    "chunks = text_splitter.split_text(text)"
   ]
  },
  {
   "cell_type": "code",
   "execution_count": 8,
   "metadata": {},
   "outputs": [
    {
     "name": "stdout",
     "output_type": "stream",
     "text": [
      "Created metadata wrapper with the chunks\n"
     ]
    }
   ],
   "source": [
    "docs = [chunks_to_docs_wrapper({'id': page_num, 'link': f'Page {page_num}', 'text': text}) for page_num, text in enumerate(chunks)]\n",
    "print(\"Created metadata wrapper with the chunks\")"
   ]
  },
  {
   "cell_type": "code",
   "execution_count": 10,
   "metadata": {},
   "outputs": [
    {
     "name": "stderr",
     "output_type": "stream",
     "text": [
      "2024-08-13 20:27:12,856 - ERROR - An unexpected error occurred: DPY-4011: the database or network closed the connection\n",
      "Help: https://python-oracledb.readthedocs.io/en/latest/user_guide/troubleshooting.html#dpy-4011\n",
      "Traceback (most recent call last):\n",
      "  File \"/home/opc/.conda/envs/oig/lib/python3.9/site-packages/langchain_community/vectorstores/oraclevs.py\", line 54, in wrapper\n",
      "    return func(*args, **kwargs)\n",
      "  File \"/home/opc/.conda/envs/oig/lib/python3.9/site-packages/langchain_community/vectorstores/oraclevs.py\", line 427, in drop_table_purge\n",
      "    if _table_exists(client, table_name):\n",
      "  File \"/home/opc/.conda/envs/oig/lib/python3.9/site-packages/langchain_community/vectorstores/oraclevs.py\", line 84, in _table_exists\n",
      "    cursor.execute(f\"SELECT COUNT(*) FROM {table_name}\")\n",
      "  File \"/home/opc/.conda/envs/oig/lib/python3.9/site-packages/oracledb-2.4.0b1-py3.9-linux-aarch64.egg/oracledb/cursor.py\", line 701, in execute\n",
      "    impl.execute(self)\n",
      "  File \"src/oracledb/impl/thin/cursor.pyx\", line 178, in oracledb.thin_impl.ThinCursorImpl.execute\n",
      "  File \"src/oracledb/impl/thin/protocol.pyx\", line 440, in oracledb.thin_impl.Protocol._process_single_message\n",
      "  File \"src/oracledb/impl/thin/protocol.pyx\", line 441, in oracledb.thin_impl.Protocol._process_single_message\n",
      "  File \"src/oracledb/impl/thin/protocol.pyx\", line 409, in oracledb.thin_impl.Protocol._process_message\n",
      "  File \"src/oracledb/impl/thin/protocol.pyx\", line 482, in oracledb.thin_impl.Protocol._reset\n",
      "  File \"src/oracledb/impl/thin/packet.pyx\", line 700, in oracledb.thin_impl.ReadBuffer.wait_for_packets_sync\n",
      "  File \"src/oracledb/impl/thin/transport.pyx\", line 334, in oracledb.thin_impl.Transport.read_packet\n",
      "  File \"/home/opc/.conda/envs/oig/lib/python3.9/site-packages/oracledb-2.4.0b1-py3.9-linux-aarch64.egg/oracledb/errors.py\", line 182, in _raise_err\n",
      "    raise error.exc_type(error) from cause\n",
      "oracledb.exceptions.DatabaseError: DPY-4011: the database or network closed the connection\n",
      "Help: https://python-oracledb.readthedocs.io/en/latest/user_guide/troubleshooting.html#dpy-4011\n",
      "2024-08-13 20:27:12,872 - ERROR - DB-related error occurred.\n",
      "Traceback (most recent call last):\n",
      "  File \"/home/opc/.conda/envs/oig/lib/python3.9/site-packages/langchain_community/vectorstores/oraclevs.py\", line 54, in wrapper\n",
      "    return func(*args, **kwargs)\n",
      "  File \"/home/opc/.conda/envs/oig/lib/python3.9/site-packages/langchain_community/vectorstores/oraclevs.py\", line 427, in drop_table_purge\n",
      "    if _table_exists(client, table_name):\n",
      "  File \"/home/opc/.conda/envs/oig/lib/python3.9/site-packages/langchain_community/vectorstores/oraclevs.py\", line 84, in _table_exists\n",
      "    cursor.execute(f\"SELECT COUNT(*) FROM {table_name}\")\n",
      "  File \"/home/opc/.conda/envs/oig/lib/python3.9/site-packages/oracledb-2.4.0b1-py3.9-linux-aarch64.egg/oracledb/cursor.py\", line 701, in execute\n",
      "    impl.execute(self)\n",
      "  File \"src/oracledb/impl/thin/cursor.pyx\", line 178, in oracledb.thin_impl.ThinCursorImpl.execute\n",
      "  File \"src/oracledb/impl/thin/protocol.pyx\", line 440, in oracledb.thin_impl.Protocol._process_single_message\n",
      "  File \"src/oracledb/impl/thin/protocol.pyx\", line 441, in oracledb.thin_impl.Protocol._process_single_message\n",
      "  File \"src/oracledb/impl/thin/protocol.pyx\", line 409, in oracledb.thin_impl.Protocol._process_message\n",
      "  File \"src/oracledb/impl/thin/protocol.pyx\", line 482, in oracledb.thin_impl.Protocol._reset\n",
      "  File \"src/oracledb/impl/thin/packet.pyx\", line 700, in oracledb.thin_impl.ReadBuffer.wait_for_packets_sync\n",
      "  File \"src/oracledb/impl/thin/transport.pyx\", line 334, in oracledb.thin_impl.Transport.read_packet\n",
      "  File \"/home/opc/.conda/envs/oig/lib/python3.9/site-packages/oracledb-2.4.0b1-py3.9-linux-aarch64.egg/oracledb/errors.py\", line 182, in _raise_err\n",
      "    raise error.exc_type(error) from cause\n",
      "oracledb.exceptions.DatabaseError: DPY-4011: the database or network closed the connection\n",
      "Help: https://python-oracledb.readthedocs.io/en/latest/user_guide/troubleshooting.html#dpy-4011\n",
      "\n",
      "The above exception was the direct cause of the following exception:\n",
      "\n",
      "Traceback (most recent call last):\n",
      "  File \"/home/opc/.conda/envs/oig/lib/python3.9/site-packages/langchain_community/vectorstores/oraclevs.py\", line 54, in wrapper\n",
      "    return func(*args, **kwargs)\n",
      "  File \"/home/opc/.conda/envs/oig/lib/python3.9/site-packages/langchain_community/vectorstores/oraclevs.py\", line 1072, in from_texts\n",
      "    drop_table_purge(client, table_name)\n",
      "  File \"/home/opc/.conda/envs/oig/lib/python3.9/site-packages/langchain_community/vectorstores/oraclevs.py\", line 68, in wrapper\n",
      "    raise RuntimeError(\"Unexpected error: {}\".format(e)) from e\n",
      "RuntimeError: Unexpected error: DPY-4011: the database or network closed the connection\n",
      "Help: https://python-oracledb.readthedocs.io/en/latest/user_guide/troubleshooting.html#dpy-4011\n",
      "ERROR - Exception\n",
      "Traceback (most recent call last):\n",
      "  File \"/home/opc/.conda/envs/oig/lib/python3.9/site-packages/langchain_community/vectorstores/oraclevs.py\", line 54, in wrapper\n",
      "    return func(*args, **kwargs)\n",
      "  File \"/home/opc/.conda/envs/oig/lib/python3.9/site-packages/langchain_community/vectorstores/oraclevs.py\", line 427, in drop_table_purge\n",
      "    if _table_exists(client, table_name):\n",
      "  File \"/home/opc/.conda/envs/oig/lib/python3.9/site-packages/langchain_community/vectorstores/oraclevs.py\", line 84, in _table_exists\n",
      "    cursor.execute(f\"SELECT COUNT(*) FROM {table_name}\")\n",
      "  File \"/home/opc/.conda/envs/oig/lib/python3.9/site-packages/oracledb-2.4.0b1-py3.9-linux-aarch64.egg/oracledb/cursor.py\", line 701, in execute\n",
      "    impl.execute(self)\n",
      "  File \"src/oracledb/impl/thin/cursor.pyx\", line 178, in oracledb.thin_impl.ThinCursorImpl.execute\n",
      "  File \"src/oracledb/impl/thin/protocol.pyx\", line 440, in oracledb.thin_impl.Protocol._process_single_message\n",
      "  File \"src/oracledb/impl/thin/protocol.pyx\", line 441, in oracledb.thin_impl.Protocol._process_single_message\n",
      "  File \"src/oracledb/impl/thin/protocol.pyx\", line 409, in oracledb.thin_impl.Protocol._process_message\n",
      "  File \"src/oracledb/impl/thin/protocol.pyx\", line 482, in oracledb.thin_impl.Protocol._reset\n",
      "  File \"src/oracledb/impl/thin/packet.pyx\", line 700, in oracledb.thin_impl.ReadBuffer.wait_for_packets_sync\n",
      "  File \"src/oracledb/impl/thin/transport.pyx\", line 334, in oracledb.thin_impl.Transport.read_packet\n",
      "  File \"/home/opc/.conda/envs/oig/lib/python3.9/site-packages/oracledb-2.4.0b1-py3.9-linux-aarch64.egg/oracledb/errors.py\", line 182, in _raise_err\n",
      "    raise error.exc_type(error) from cause\n",
      "oracledb.exceptions.DatabaseError: DPY-4011: the database or network closed the connection\n",
      "Help: https://python-oracledb.readthedocs.io/en/latest/user_guide/troubleshooting.html#dpy-4011\n",
      "\n",
      "The above exception was the direct cause of the following exception:\n",
      "\n",
      "Traceback (most recent call last):\n",
      "  File \"/home/opc/.conda/envs/oig/lib/python3.9/site-packages/langchain_community/vectorstores/oraclevs.py\", line 54, in wrapper\n",
      "    return func(*args, **kwargs)\n",
      "  File \"/home/opc/.conda/envs/oig/lib/python3.9/site-packages/langchain_community/vectorstores/oraclevs.py\", line 1072, in from_texts\n",
      "    drop_table_purge(client, table_name)\n",
      "  File \"/home/opc/.conda/envs/oig/lib/python3.9/site-packages/langchain_community/vectorstores/oraclevs.py\", line 68, in wrapper\n",
      "    raise RuntimeError(\"Unexpected error: {}\".format(e)) from e\n",
      "RuntimeError: Unexpected error: DPY-4011: the database or network closed the connection\n",
      "Help: https://python-oracledb.readthedocs.io/en/latest/user_guide/troubleshooting.html#dpy-4011\n",
      "\n",
      "The above exception was the direct cause of the following exception:\n",
      "\n",
      "Traceback (most recent call last):\n",
      "  File \"/home/opc/.conda/envs/oig/lib/python3.9/site-packages/IPython/core/interactiveshell.py\", line 3505, in run_code\n",
      "    exec(code_obj, self.user_global_ns, self.user_ns)\n",
      "  File \"/tmp/ipykernel_2773883/2528328974.py\", line 6, in <module>\n",
      "    knowledge_base = OracleVS.from_documents(docs, model_4db, client=conn23c, table_name=\"OIG_v1_table\", distance_strategy=DistanceStrategy.DOT_PRODUCT)\n",
      "  File \"/home/opc/.conda/envs/oig/lib/python3.9/site-packages/langchain_core/vectorstores/base.py\", line 1058, in from_documents\n",
      "    return cls.from_texts(texts, embedding, metadatas=metadatas, **kwargs)\n",
      "  File \"/home/opc/.conda/envs/oig/lib/python3.9/site-packages/langchain_community/vectorstores/oraclevs.py\", line 58, in wrapper\n",
      "    raise RuntimeError(\n",
      "RuntimeError: Failed due to a DB issue: Unexpected error: DPY-4011: the database or network closed the connection\n",
      "Help: https://python-oracledb.readthedocs.io/en/latest/user_guide/troubleshooting.html#dpy-4011\n",
      "RuntimeError: Failed due to a DB issue: Unexpected error: DPY-4011: the database or network closed the connection\n",
      "Help: https://python-oracledb.readthedocs.io/en/latest/user_guide/troubleshooting.html#dpy-4011"
     ]
    }
   ],
   "source": [
    "# Initialize embedding model\n",
    "model_4db = HuggingFaceEmbeddings(model_name=\"sentence-transformers/all-MiniLM-L6-v2\")\n",
    "\n",
    "# Vectorize and store chunks in Oracle Database 23ai\n",
    "s1time = time.time()\n",
    "knowledge_base = OracleVS.from_documents(docs, model_4db, client=conn23c, table_name=\"OIG_v1_table\", distance_strategy=DistanceStrategy.DOT_PRODUCT)\n",
    "s2time = time.time()\n",
    "\n",
    "print(f\"Vectorizing and inserting chunks duration: {round(s2time - s1time, 1)} sec.\")\n"
   ]
  },
  {
   "cell_type": "code",
   "execution_count": 9,
   "metadata": {},
   "outputs": [
    {
     "name": "stdout",
     "output_type": "stream",
     "text": [
      "connection successful\n",
      "False\n",
      "Processed batch 1 in 15.7 sec.\n",
      "Processed batch 2 in 13.0 sec.\n",
      "Processed batch 3 in 12.5 sec.\n",
      "Processed batch 4 in 12.4 sec.\n",
      "Processed batch 5 in 12.3 sec.\n",
      "Processed batch 6 in 11.2 sec.\n",
      "Processed batch 7 in 12.2 sec.\n",
      "Processed batch 8 in 2.2 sec.\n"
     ]
    }
   ],
   "source": [
    "batch_size = 100 \n",
    "conn23c = oracledb.connect(user=username, password=password, dsn=dsn)\n",
    "print(\"connection successful\")\n",
    "print(oraclevs._compare_version(\"2.4.0b1\", \"2.3.0\"))\n",
    "# Initialize embedding model\n",
    "model_4db = HuggingFaceEmbeddings(model_name=\"sentence-transformers/all-MiniLM-L6-v2\")\n",
    "for i in range(0, len(docs), batch_size):\n",
    "    batch_docs = docs[i:i + batch_size]\n",
    "    s1time = time.time()\n",
    "    OracleVS.from_documents(batch_docs, model_4db, client=conn23c, table_name=\"OIG_base_table\", distance_strategy=DistanceStrategy.DOT_PRODUCT)\n",
    "    s2time = time.time()\n",
    "    print(f\"Processed batch {i//batch_size + 1} in {round(s2time - s1time, 1)} sec.\")\n"
   ]
  },
  {
   "cell_type": "code",
   "execution_count": 23,
   "metadata": {},
   "outputs": [
    {
     "name": "stdout",
     "output_type": "stream",
     "text": [
      "connection successful\n",
      "False\n",
      "Processed batch 1 in 15.7 sec.\n",
      "Processed batch 2 in 13.3 sec.\n",
      "Processed batch 3 in 12.4 sec.\n",
      "Processed batch 4 in 12.8 sec.\n",
      "Processed batch 5 in 12.6 sec.\n",
      "Processed batch 6 in 11.9 sec.\n",
      "Processed batch 7 in 12.4 sec.\n",
      "Processed batch 8 in 2.2 sec.\n"
     ]
    }
   ],
   "source": [
    "batch_size = 100 \n",
    "conn23c = oracledb.connect(user=username, password=password, dsn=dsn)\n",
    "print(\"connection successful\")\n",
    "print(oraclevs._compare_version(\"2.4.0b1\", \"2.3.0\"))\n",
    "knowledge_base = []\n",
    "# Initialize embedding model\n",
    "model_4db = HuggingFaceEmbeddings(model_name=\"sentence-transformers/all-MiniLM-L6-v2\")\n",
    "for i in range(0, len(docs), batch_size):\n",
    "    batch_docs = docs[i:i + batch_size]\n",
    "    s1time = time.time()\n",
    "    current_knowledge = OracleVS.from_documents(batch_docs, model_4db, client=conn23c, table_name=\"OIG_base_table\", distance_strategy=DistanceStrategy.DOT_PRODUCT)\n",
    "    knowledge_base.append(current_knowledge)\n",
    "    s2time = time.time()\n",
    "    print(f\"Processed batch {i//batch_size + 1} in {round(s2time - s1time, 1)} sec.\")\n"
   ]
  },
  {
   "cell_type": "code",
   "execution_count": 26,
   "metadata": {},
   "outputs": [
    {
     "name": "stdout",
     "output_type": "stream",
     "text": [
      "connection successful\n",
      "Processed batch 8 in 89.4 sec.\n"
     ]
    }
   ],
   "source": [
    "# All at once\n",
    "batch_size = 100 \n",
    "conn23c = oracledb.connect(user=username, password=password, dsn=dsn)\n",
    "print(\"connection successful\")\n",
    "# Initialize embedding model\n",
    "model_4db = HuggingFaceEmbeddings(model_name=\"sentence-transformers/all-MiniLM-L6-v2\")\n",
    "s1time = time.time()\n",
    "vector_stores = OracleVS.from_documents(docs, model_4db, client=conn23c, table_name=\"OIG_base_table\", distance_strategy=DistanceStrategy.DOT_PRODUCT)\n",
    "s2time = time.time()\n",
    "print(f\"Processed batch {i//batch_size + 1} in {round(s2time - s1time, 1)} sec.\")"
   ]
  },
  {
   "cell_type": "code",
   "execution_count": 29,
   "metadata": {},
   "outputs": [
    {
     "name": "stdout",
     "output_type": "stream",
     "text": [
      "The prompt to the LLM will be: What are the key features of Oracle Identity Governance?\n"
     ]
    }
   ],
   "source": [
    "user_question = \"What are the key features of Oracle Identity Governance?\"\n",
    "print(\"The prompt to the LLM will be:\", user_question)\n"
   ]
  },
  {
   "cell_type": "code",
   "execution_count": null,
   "metadata": {},
   "outputs": [],
   "source": [
    "print(len(docs))\n",
    "if conn23c is None:\n",
    "    print(\"Database connection is closed. Reconnecting...\")\n",
    "conn23c = oracledb.connect(user=username, password=password, dsn=dsn)\n"
   ]
  },
  {
   "cell_type": "code",
   "execution_count": null,
   "metadata": {},
   "outputs": [],
   "source": [
    "batch_size = 100 \n",
    "conn23c = oracledb.connect(user=username, password=password, dsn=dsn)\n",
    "print(\"connection successful\")\n",
    "print(oraclevs._compare_version(\"2.4.0b1\", \"2.3.0\"))"
   ]
  },
  {
   "cell_type": "code",
   "execution_count": null,
   "metadata": {},
   "outputs": [],
   "source": [
    "print(oraclevs._compare_version(\"2.4.0b1\", \"2.3.0\"))"
   ]
  },
  {
   "cell_type": "code",
   "execution_count": 18,
   "metadata": {},
   "outputs": [
    {
     "name": "stdout",
     "output_type": "stream",
     "text": [
      "LLM setup complete.\n"
     ]
    }
   ],
   "source": [
    "# Configuration Profile\n",
    "config_profile = \"DEFAULT\"\n",
    "config = oci.config.from_file('~/.oci/config', config_profile)\n",
    "\n",
    "# Define the compartment and service endpoint\n",
    "# real compartment id: ocid1.user.oc1..aaaaaaaavprlus6kzst2a76z74hqfcdollr6ielt66mo75w5zwld4byfnptq\n",
    "compartment_id = \"ocid1.compartment.oc1..aaaaaaaagvtl2poaovkpbtndd4fzi4ro5qx3bwcwlqzmqcgcjuzujelrjq2q\"\n",
    "endpoint = \"https://inference.generativeai.us-chicago-1.oci.oraclecloud.com\"\n",
    "\n",
    "# Define the model details, using the model ID from OCI\n",
    "model_id = \"ocid1.generativeaimodel.oc1.us-chicago-1.amaaaaaask7dceyawk6mgunzodenakhkuwxanvt6wo3jcpf72ln52dymk4wq\"\n",
    "\n",
    "# Instantiate the OCI GenAI LLM with Cohere Command Model\n",
    "llm = OCIGenAI(\n",
    "    model_id=model_id,\n",
    "    service_endpoint=endpoint,\n",
    "    compartment_id=compartment_id,\n",
    "    model_kwargs={\n",
    "        \"temperature\": 0.7, \n",
    "        \"top_p\": 0.75, \n",
    "        \"max_tokens\": 2000,\n",
    "        \"frequency_penalty\": 0,\n",
    "        \"top_k\": 0\n",
    "    },\n",
    "    auth_type=\"API_KEY\"\n",
    ")\n",
    "\n",
    "print(\"LLM setup complete.\")"
   ]
  },
  {
   "cell_type": "code",
   "execution_count": 14,
   "metadata": {},
   "outputs": [],
   "source": [
    "# Default config file and profile\n",
    "config = oci.config.from_file('~/.oci/config', config_profile)\n",
    "\n",
    "# validate the default config file\n",
    "oci.config.validate_config(config)"
   ]
  },
  {
   "cell_type": "code",
   "execution_count": 32,
   "metadata": {},
   "outputs": [
    {
     "name": "stdout",
     "output_type": "stream",
     "text": [
      "**************************Chat Result**************************\n",
      "Oracle Identity Governance (OIG) Suite is a comprehensive product that governs and manages an organization's digital identities and provides single sign-on (SSO) capabilities. Here are some of the key features of Oracle Identity Governance:\n",
      "\n",
      "1. Oracle Access Manager: Enables users to secure and manage access to enterprise applications, web services, and resources with SSO capabilities. It also provides comprehensive authentication and authorization policies.\n",
      "\n",
      "2. Oracle Identity Manager (OIM): Helps in managing the identity life cycle of users, including user provisioning, de-provisioning, and password synchronization. It also enables self-service capabilities for users to update their profiles and manage their access requests.\n",
      "\n",
      "3. Oracle Identity Analytics: Provides advanced analytics and reporting capabilities to identify potential security threats, comply with regulatory requirements, and optimize identity governance processes. It helps in auditing and monitoring identity-related activities.\n",
      "\n",
      "4. Oracle Privileged Account Manager: Allows an organization to secure and manage privileged accounts, control privileged session activity, and enforce strong password policies for privileged accounts.\n",
      "\n",
      "5. Oracle Virtual Directory: Enables the consolidation of disparate identity data across the enterprise into a virtual directory, allowing for efficient identity management and enabling SSO across various applications.\n",
      "\n",
      "6. Adaptive Access Controls: OIG uses machine learning and risk-based authentication to provide adaptive access controls. It can block or challenge suspicious access attempts, protecting against potential threats in real time.\n",
      "\n",
      "7. Multi-factor Authentication: Supports multiple methods of MFA, enhancing security by requiring users to provide additional forms of verification beyond passwords.\n",
      "\n",
      "8. Single Sign-On (SSO): Allows users to access multiple applications with a single identity, improving convenience and reducing the number of passwords users need to remember.\n",
      "\n",
      "9. Support for Compliance and Auditing: Oracle Identity Governance assists in meeting compliance requirements by providing detailed audit trails, tracking changes, and monitoring access to sensitive resources.\n",
      "\n",
      "10. Integration with Other Oracle Products: OIG integrates seamlessly with other Oracle products like Oracle Fusion Applications, E-Business Suite, PeopleSoft, and Siebel, simplifying identity management across the entire enterprise application landscape.\n",
      "\n",
      "11. Open Standards and APIs: OIG supports open standards and provides APIs, enabling easy integration with existing systems and third-party applications.\n",
      "\n",
      "12. Globalization Support: OIG supports multiple languages, time zones, and cultural preferences, making it suitable for organizations with a global workforce and customers.\n",
      "\n",
      "These features make Oracle Identity Governance a robust and comprehensive solution for managing and securing digital identities within an organization. It helps to simplify identity and access management, enhance security, and ensure regulatory compliance.\n"
     ]
    }
   ],
   "source": [
    "# Setup basic variables\n",
    "# Auth Config\n",
    "# Update with your own compartment ID and profile if needed\n",
    "compartment_id = \"ocid1.compartment.oc1..aaaaaaaagvtl2poaovkpbtndd4fzi4ro5qx3bwcwlqzmqcgcjuzujelrjq2q\"\n",
    "CONFIG_PROFILE = \"DEFAULT\"\n",
    "config = oci.config.from_file('~/.oci/config', CONFIG_PROFILE)\n",
    "# Service endpoint\n",
    "endpoint = \"https://inference.generativeai.us-chicago-1.oci.oraclecloud.com\"\n",
    "# Create the Generative AI Inference Client\n",
    "generative_ai_inference_client = oci.generative_ai_inference.GenerativeAiInferenceClient(\n",
    "    config=config, service_endpoint=endpoint, retry_strategy=oci.retry.NoneRetryStrategy(), timeout=(10, 240)\n",
    ")\n",
    "# Set up the chat request with Cohere Command model\n",
    "def get_llm_response(input_text: str) -> str:\n",
    "    chat_detail = oci.generative_ai_inference.models.ChatDetails()\n",
    "    chat_request = oci.generative_ai_inference.models.CohereChatRequest()\n",
    "    chat_request.message = input_text\n",
    "    chat_request.max_tokens = 600\n",
    "    chat_request.temperature = 1\n",
    "    chat_request.frequency_penalty = 0\n",
    "    chat_request.top_p = 0.75\n",
    "    chat_request.top_k = 0\n",
    "    # Specify the model ID for the Cohere Command model\n",
    "    chat_detail.serving_mode = oci.generative_ai_inference.models.OnDemandServingMode(\n",
    "        model_id=\"ocid1.generativeaimodel.oc1.us-chicago-1.amaaaaaask7dceyawk6mgunzodenakhkuwxanvt6wo3jcpf72ln52dymk4wq\"\n",
    "    )\n",
    "    chat_detail.chat_request = chat_request\n",
    "    chat_detail.compartment_id = compartment_id\n",
    "    # Get the response from the LLM\n",
    "    chat_response = generative_ai_inference_client.chat(chat_detail)\n",
    "    # Extract the response text\n",
    "\n",
    "    # print(\"**************************Chat Response Attributes**************************\")\n",
    "    # print(dir(chat_response))\n",
    "    # print(\"**************************Chat Response Data**************************\")\n",
    "    # print(chat_response.data)\n",
    "\n",
    "    # response_text = chat_response.data.text.strip() if hasattr(chat_response.data, 'text') else str(chat_response.data)\n",
    "\n",
    "    response_text = chat_response.data.chat_response.text\n",
    "\n",
    "    return response_text\n",
    "\n",
    "# Example usage:\n",
    "input_question = \"List the features in Oracle Identity Governance\"\n",
    "response = get_llm_response(input_question)\n",
    "print(\"**************************Chat Result**************************\")\n",
    "print(response)\n"
   ]
  },
  {
   "cell_type": "code",
   "execution_count": 27,
   "metadata": {},
   "outputs": [],
   "source": [
    "# Set up the template for the questions and context, and instantiate the database retriever object\n",
    "template = \"\"\"Answer the question based only on the  following context:\n",
    "            {context} Question: {question} \"\"\"\n",
    "prompt = PromptTemplate.from_template(template)\n",
    "retriever = vector_stores.as_retriever()"
   ]
  },
  {
   "cell_type": "code",
   "execution_count": 41,
   "metadata": {},
   "outputs": [
    {
     "name": "stdout",
     "output_type": "stream",
     "text": [
      "We are sending the prompt and RAG context to the LLM, wait a few seconds for the response...\n",
      "What are the key features of Oracle Identity Governance?\n",
      "input_variables=['context', 'question'] template='Answer the question based only on the  following context:\\n            {context} Question: {question} '\n",
      "Based on the provided context, here are some key features of Oracle Identity Governance:\n",
      "\n",
      "1. Self-service operations: Users can perform tasks like requesting roles and resources and managing approvals, provisioning, and certification processes without requiring administrative intervention.\n",
      "\n",
      "2. Delegated Administration: Oracle Identity Governance allows for delegated administrators who can carry out identity administration tasks and establish authorization policies. These administrators can manage various aspects, including user roles, access privileges, and workflow rules.\n",
      "\n",
      "3. Accessibility: Oracle Identity Governance aims to be accessible to users with disabilities. It provides accessibility options and support for users with special needs, adhering to Oracle's commitment to accessibility.\n",
      "\n",
      "4. Oracle Support Access: Oracle Identity Governance offers access to Oracle Support for customers who have purchased support. This support can be electronic and is available through My Oracle Support portals.\n",
      "\n",
      "5. Common Screens: Oracle Identity Self Service and Oracle Identity System Administration share certain common screens, including sections related to sandboxes. These sandboxes provide a safe environment for users to experiment with customizations without impacting other users' experiences.\n",
      "\n",
      "6. Workflow Management: The system enables the management of workflow rules, allowing for customization and control over approval processes. \n",
      "\n",
      "7. Role Management: It provides roles and role management capabilities, allowing users to request roles and administrators to delegate and manage these roles effectively.\n",
      "\n",
      "Please note that the above information is based on the limited context provided, and Oracle Identity Governance likely has additional features and capabilities.\n",
      "\n",
      "Send user question and ranked chunks to LLM and get answer duration: 5.1 sec.\n"
     ]
    }
   ],
   "source": [
    "# RAG Steps 6 and 7 Chain the entire process together, retrieve the context, construct the prompt with the question and context, and pass to LLM for the response\n",
    "\n",
    "s5time = time.time()\n",
    "print(\"We are sending the prompt and RAG context to the LLM, wait a few seconds for the response...\")\n",
    "chain = (\n",
    "  {\"context\": retriever, \"question\": RunnablePassthrough()}\n",
    "     | prompt\n",
    "     | (lambda x: str(x))\n",
    "     | get_llm_response\n",
    "     | StrOutputParser()\n",
    ")\n",
    "response = chain.invoke(user_question)\n",
    "print(user_question)\n",
    "print(prompt)\n",
    "print(response)\n",
    "# Print timings for the RAG execution steps\n",
    "\n",
    "s6time = time.time()\n",
    "print(\"\")\n",
    "print( f\"Send user question and ranked chunks to LLM and get answer duration: {round(s6time - s5time, 1)} sec.\")"
   ]
  },
  {
   "cell_type": "code",
   "execution_count": 34,
   "metadata": {},
   "outputs": [],
   "source": [
    "# Save the model configuration\n",
    "model_name = \"sentence-transformers/all-MiniLM-L6-v2\"\n",
    "# Re-initialize the model later\n",
    "model_4db = HuggingFaceEmbeddings(model_name=model_name)"
   ]
  },
  {
   "cell_type": "code",
   "execution_count": 35,
   "metadata": {},
   "outputs": [],
   "source": [
    "# Reconnect to Oracle Database\n",
    "conn23c = oracledb.connect(user=username, password=password, dsn=dsn)\n",
    "# Reinitialize the vector store (replace 'OIG_base_table' with your table name)\n",
    "knowledge_base = OracleVS(\n",
    "    client=conn23c,\n",
    "    embedding_function=model_4db,\n",
    "    table_name=\"OIG_base_table\",\n",
    "    distance_strategy=DistanceStrategy.DOT_PRODUCT,\n",
    ")"
   ]
  },
  {
   "cell_type": "code",
   "execution_count": 39,
   "metadata": {},
   "outputs": [
    {
     "name": "stderr",
     "output_type": "stream",
     "text": [
      "ERROR - Exception\n",
      "Traceback (most recent call last):\n",
      "  File \"/home/opc/.conda/envs/oig/lib/python3.9/site-packages/IPython/core/interactiveshell.py\", line 3505, in run_code\n",
      "    exec(code_obj, self.user_global_ns, self.user_ns)\n",
      "  File \"/tmp/ipykernel_2773883/1441426183.py\", line 17, in <module>\n",
      "    pickle.dump(config_to_save, f)\n",
      "  File \"<stringsource>\", line 2, in oracledb.thin_impl.ReadBuffer.__reduce_cython__\n",
      "TypeError: no default __reduce__ due to non-trivial __cinit__\n",
      "TypeError: no default __reduce__ due to non-trivial __cinit__"
     ]
    }
   ],
   "source": [
    "import pickle\n",
    "# Save only the serializable components\n",
    "serializable_chain = (\n",
    "  {\"context\": retriever, \"question\": RunnablePassthrough()}\n",
    "     | prompt\n",
    "     | (lambda x: str(x))\n",
    "     | get_llm_response\n",
    "     | StrOutputParser()\n",
    ")\n",
    "# Save configurations and serializable chain\n",
    "config_to_save = {\n",
    "    'model_name': model_name,\n",
    "    'table_name': \"OIG_base_table\", \n",
    "    'chain': serializable_chain\n",
    "}\n",
    "with open('rag_chain_config.pkl', 'wb') as f:\n",
    "    pickle.dump(config_to_save, f)"
   ]
  },
  {
   "cell_type": "code",
   "execution_count": 44,
   "metadata": {},
   "outputs": [
    {
     "data": {
      "text/plain": [
       "'To provide information to flat files, you first need to specify the flat file location (flatFileLocation). Clicking Parse Headers will list all the field names present in the flat file. You can then use the Flat File Schema Properties section to create the flat file schema. Within this section, you can define options for the flat file fields, including adding new fields, selecting attributes, choosing data types, and mapping to names or UIDs. Additionally, you may need to fill in the Reconciliation Jobs section under the Settings tab, ensuring that mandatory parameters are entered.'"
      ]
     },
     "execution_count": 44,
     "metadata": {},
     "output_type": "execute_result"
    }
   ],
   "source": [
    "sample_question = \"Can you tell me how to provide information to flat files?\"\n",
    "chain.invoke(sample_question)"
   ]
  },
  {
   "cell_type": "code",
   "execution_count": 45,
   "metadata": {},
   "outputs": [
    {
     "name": "stdout",
     "output_type": "stream",
     "text": [
      "To provide information to flat files, you first need to specify the flat file location (flatFileLocation). Click 'Parse Headers' to list all the field names present in the flat file. This will bring up the Flat File Schema Properties section, where you can input the information you wish to include. You can add new fields, as well as edit attributes, data types, names, and UIDs.\n",
      "\n",
      "Time it took: 1.6 sec.\n"
     ]
    }
   ],
   "source": [
    "sample_question = \"Can you tell me how to provide information to flat files?\"\n",
    "start_time = time.time()\n",
    "print(chain.invoke(sample_question))\n",
    "end_time = time.time()\n",
    "print(\"\")\n",
    "print( f\"Time it took: {round(end_time - start_time, 1)} sec.\")"
   ]
  },
  {
   "cell_type": "code",
   "execution_count": 47,
   "metadata": {},
   "outputs": [
    {
     "name": "stdout",
     "output_type": "stream",
     "text": [
      "Sorry, I couldn't find any information about Setting Up Database in Server-Authentication SSL Mode from the provided text. The text primarily focuses on Oracle Identity Manager and Self Service features, including unauthenticated self-service tasks, user registration, and identity administration. If you have additional context or questions related to setting up databases in Server-Authentication SSL Mode, please provide them, and I'd be happy to assist further.\n",
      "\n",
      "Time it took: 1.7 sec.\n"
     ]
    }
   ],
   "source": [
    "sample_question = \"Can you tell me about Setting Up Database in Server-Authentication SSL Mode\"\n",
    "start_time = time.time()\n",
    "print(chain.invoke(sample_question))\n",
    "end_time = time.time()\n",
    "print(\"\")\n",
    "print( f\"Time it took: {round(end_time - start_time, 1)} sec.\")"
   ]
  },
  {
   "cell_type": "code",
   "execution_count": 48,
   "metadata": {},
   "outputs": [
    {
     "name": "stdout",
     "output_type": "stream",
     "text": [
      "I can certainly help you with that. \n",
      "\n",
      " Configuring password policies can be done using the following steps:\n",
      "1. Go to the Password Policies section\n",
      "2. Enter a name for your policy \n",
      "3. Add a description \n",
      "4. Set the minimum password age in days \n",
      "5. Determine the number of days a user is notified about their password expiration, also known as Warn After (Days)\n",
      "6. Specify how often users can reuse old passwords\n",
      "7. Set the maximum password duration in days\n",
      "8. Evaluate passwords against complex criteria, ensuring they adhere to any requirements. If you enable the Complex Password option, you won't be able to use Custom Policy. \n",
      "9. However, if you select Custom Policy, you can set a custom password policy using fields like maximum password length, maximum repeated characters, minimum numeric characters, and minimum alphanumeric characters. \n",
      "\n",
      "Make sure you detatch the Policies page into a separate window so you can refer to it as you follow these steps.\n",
      "\n",
      "Time it took: 3.6 sec.\n"
     ]
    }
   ],
   "source": [
    "# https://docs.oracle.com/en/middleware/idm/identity-governance/12.2.1.4/omadm/administering-oracle-identity-governance.pdf\n",
    "# Page 157\n",
    "sample_question = \"Can you tell me about Configuring Password Policies for Application Instances?\"\n",
    "start_time = time.time()\n",
    "print(chain.invoke(sample_question))\n",
    "end_time = time.time()\n",
    "print(\"\")\n",
    "print( f\"Time it took: {round(end_time - start_time, 1)} sec.\")"
   ]
  },
  {
   "cell_type": "code",
   "execution_count": 49,
   "metadata": {},
   "outputs": [
    {
     "name": "stdout",
     "output_type": "stream",
     "text": [
      "My knowledge base is comprised of the following:\n",
      "- Users with Any Level of Risk\n",
      "- Users with High Risk Summaries\n",
      "- Users with High Risk Roles\n",
      "- Users with High Risk Application Instances\n",
      "- Only User with High Risk Entitlements\n",
      "\n",
      "It also includes the options available to specify constraints to the base selection for the following certification definitions:\n",
      "- Role certification definition\n",
      "- Application instance certification definition\n",
      "- Entitlement certification definition\n",
      "\n",
      "Additionally, there is some text which appears to be an excerpt from a book or manual, referring to Oracle programs, documentation, and data, and their use by US Government end users. This text discusses the categories of \"commercial computer software,\" \"commercial computer software documentation,\" and \"limited rights data,\" and the regulations that apply to them. Lastly, there is a section about IT resources, including instructions for creating, editing, deleting, and resetting them, as well as accessing resource details and parameters.\n",
      "\n",
      "Time it took: 3.4 sec.\n"
     ]
    }
   ],
   "source": [
    "sample_question = \"What is your knowledge base comprised of?\"\n",
    "start_time = time.time()\n",
    "print(chain.invoke(sample_question))\n",
    "end_time = time.time()\n",
    "print(\"\")\n",
    "print( f\"Time it took: {round(end_time - start_time, 1)} sec.\")"
   ]
  },
  {
   "cell_type": "code",
   "execution_count": 50,
   "metadata": {},
   "outputs": [
    {
     "name": "stderr",
     "output_type": "stream",
     "text": [
      "2024-08-14 22:20:06,476 - ERROR - An unexpected error occurred: DPY-4011: the database or network closed the connection\n",
      "Help: https://python-oracledb.readthedocs.io/en/latest/user_guide/troubleshooting.html#dpy-4011\n",
      "Traceback (most recent call last):\n",
      "  File \"/home/opc/.conda/envs/oig/lib/python3.9/site-packages/langchain_community/vectorstores/oraclevs.py\", line 54, in wrapper\n",
      "    return func(*args, **kwargs)\n",
      "  File \"/home/opc/.conda/envs/oig/lib/python3.9/site-packages/langchain_community/vectorstores/oraclevs.py\", line 776, in similarity_search_by_vector_with_relevance_scores\n",
      "    cursor.execute(query, embedding=embedding_arr)\n",
      "  File \"/home/opc/.conda/envs/oig/lib/python3.9/site-packages/oracledb-2.4.0b1-py3.9-linux-aarch64.egg/oracledb/cursor.py\", line 701, in execute\n",
      "    impl.execute(self)\n",
      "  File \"src/oracledb/impl/thin/cursor.pyx\", line 178, in oracledb.thin_impl.ThinCursorImpl.execute\n",
      "  File \"src/oracledb/impl/thin/protocol.pyx\", line 440, in oracledb.thin_impl.Protocol._process_single_message\n",
      "  File \"src/oracledb/impl/thin/protocol.pyx\", line 441, in oracledb.thin_impl.Protocol._process_single_message\n",
      "  File \"src/oracledb/impl/thin/protocol.pyx\", line 410, in oracledb.thin_impl.Protocol._process_message\n",
      "  File \"src/oracledb/impl/thin/protocol.pyx\", line 388, in oracledb.thin_impl.Protocol._process_message\n",
      "  File \"src/oracledb/impl/thin/protocol.pyx\", line 454, in oracledb.thin_impl.Protocol._receive_packet\n",
      "  File \"src/oracledb/impl/thin/packet.pyx\", line 700, in oracledb.thin_impl.ReadBuffer.wait_for_packets_sync\n",
      "  File \"src/oracledb/impl/thin/transport.pyx\", line 334, in oracledb.thin_impl.Transport.read_packet\n",
      "  File \"/home/opc/.conda/envs/oig/lib/python3.9/site-packages/oracledb-2.4.0b1-py3.9-linux-aarch64.egg/oracledb/errors.py\", line 182, in _raise_err\n",
      "    raise error.exc_type(error) from cause\n",
      "oracledb.exceptions.DatabaseError: DPY-4011: the database or network closed the connection\n",
      "Help: https://python-oracledb.readthedocs.io/en/latest/user_guide/troubleshooting.html#dpy-4011\n",
      "ERROR - Exception\n",
      "Traceback (most recent call last):\n",
      "  File \"/home/opc/.conda/envs/oig/lib/python3.9/site-packages/langchain_community/vectorstores/oraclevs.py\", line 54, in wrapper\n",
      "    return func(*args, **kwargs)\n",
      "  File \"/home/opc/.conda/envs/oig/lib/python3.9/site-packages/langchain_community/vectorstores/oraclevs.py\", line 776, in similarity_search_by_vector_with_relevance_scores\n",
      "    cursor.execute(query, embedding=embedding_arr)\n",
      "  File \"/home/opc/.conda/envs/oig/lib/python3.9/site-packages/oracledb-2.4.0b1-py3.9-linux-aarch64.egg/oracledb/cursor.py\", line 701, in execute\n",
      "    impl.execute(self)\n",
      "  File \"src/oracledb/impl/thin/cursor.pyx\", line 178, in oracledb.thin_impl.ThinCursorImpl.execute\n",
      "  File \"src/oracledb/impl/thin/protocol.pyx\", line 440, in oracledb.thin_impl.Protocol._process_single_message\n",
      "  File \"src/oracledb/impl/thin/protocol.pyx\", line 441, in oracledb.thin_impl.Protocol._process_single_message\n",
      "  File \"src/oracledb/impl/thin/protocol.pyx\", line 410, in oracledb.thin_impl.Protocol._process_message\n",
      "  File \"src/oracledb/impl/thin/protocol.pyx\", line 388, in oracledb.thin_impl.Protocol._process_message\n",
      "  File \"src/oracledb/impl/thin/protocol.pyx\", line 454, in oracledb.thin_impl.Protocol._receive_packet\n",
      "  File \"src/oracledb/impl/thin/packet.pyx\", line 700, in oracledb.thin_impl.ReadBuffer.wait_for_packets_sync\n",
      "  File \"src/oracledb/impl/thin/transport.pyx\", line 334, in oracledb.thin_impl.Transport.read_packet\n",
      "  File \"/home/opc/.conda/envs/oig/lib/python3.9/site-packages/oracledb-2.4.0b1-py3.9-linux-aarch64.egg/oracledb/errors.py\", line 182, in _raise_err\n",
      "    raise error.exc_type(error) from cause\n",
      "oracledb.exceptions.DatabaseError: DPY-4011: the database or network closed the connection\n",
      "Help: https://python-oracledb.readthedocs.io/en/latest/user_guide/troubleshooting.html#dpy-4011\n",
      "\n",
      "The above exception was the direct cause of the following exception:\n",
      "\n",
      "Traceback (most recent call last):\n",
      "  File \"/home/opc/.conda/envs/oig/lib/python3.9/site-packages/IPython/core/interactiveshell.py\", line 3505, in run_code\n",
      "    exec(code_obj, self.user_global_ns, self.user_ns)\n",
      "  File \"/tmp/ipykernel_2773883/1159915787.py\", line 3, in <module>\n",
      "    print(chain.invoke(sample_question))\n",
      "  File \"/home/opc/.conda/envs/oig/lib/python3.9/site-packages/langchain_core/runnables/base.py\", line 2876, in invoke\n",
      "    input = context.run(step.invoke, input, config, **kwargs)\n",
      "  File \"/home/opc/.conda/envs/oig/lib/python3.9/site-packages/langchain_core/runnables/base.py\", line 3580, in invoke\n",
      "    output = {key: future.result() for key, future in zip(steps, futures)}\n",
      "  File \"/home/opc/.conda/envs/oig/lib/python3.9/site-packages/langchain_core/runnables/base.py\", line 3580, in <dictcomp>\n",
      "    output = {key: future.result() for key, future in zip(steps, futures)}\n",
      "  File \"/home/opc/.conda/envs/oig/lib/python3.9/concurrent/futures/_base.py\", line 446, in result\n",
      "    return self.__get_result()\n",
      "  File \"/home/opc/.conda/envs/oig/lib/python3.9/concurrent/futures/_base.py\", line 391, in __get_result\n",
      "    raise self._exception\n",
      "  File \"/home/opc/.conda/envs/oig/lib/python3.9/concurrent/futures/thread.py\", line 58, in run\n",
      "    result = self.fn(*self.args, **self.kwargs)\n",
      "  File \"/home/opc/.conda/envs/oig/lib/python3.9/site-packages/langchain_core/runnables/base.py\", line 3564, in _invoke_step\n",
      "    return context.run(\n",
      "  File \"/home/opc/.conda/envs/oig/lib/python3.9/site-packages/langchain_core/retrievers.py\", line 219, in invoke\n",
      "    raise e\n",
      "  File \"/home/opc/.conda/envs/oig/lib/python3.9/site-packages/langchain_core/retrievers.py\", line 212, in invoke\n",
      "    result = self._get_relevant_documents(\n",
      "  File \"/home/opc/.conda/envs/oig/lib/python3.9/site-packages/langchain_core/vectorstores/base.py\", line 1246, in _get_relevant_documents\n",
      "    docs = self.vectorstore.similarity_search(query, **self.search_kwargs)\n",
      "  File \"/home/opc/.conda/envs/oig/lib/python3.9/site-packages/langchain_community/vectorstores/oraclevs.py\", line 690, in similarity_search\n",
      "    documents = self.similarity_search_by_vector(\n",
      "  File \"/home/opc/.conda/envs/oig/lib/python3.9/site-packages/langchain_community/vectorstores/oraclevs.py\", line 702, in similarity_search_by_vector\n",
      "    docs_and_scores = self.similarity_search_by_vector_with_relevance_scores(\n",
      "  File \"/home/opc/.conda/envs/oig/lib/python3.9/site-packages/langchain_community/vectorstores/oraclevs.py\", line 68, in wrapper\n",
      "    raise RuntimeError(\"Unexpected error: {}\".format(e)) from e\n",
      "RuntimeError: Unexpected error: DPY-4011: the database or network closed the connection\n",
      "Help: https://python-oracledb.readthedocs.io/en/latest/user_guide/troubleshooting.html#dpy-4011\n",
      "RuntimeError: Unexpected error: DPY-4011: the database or network closed the connection\n",
      "Help: https://python-oracledb.readthedocs.io/en/latest/user_guide/troubleshooting.html#dpy-4011"
     ]
    }
   ],
   "source": [
    "sample_question = \"What are some example roles I can give to my users as an admin?\"\n",
    "start_time = time.time()\n",
    "print(chain.invoke(sample_question))\n",
    "end_time = time.time()\n",
    "print(\"\")\n",
    "print( f\"Time it took: {round(end_time - start_time, 1)} sec.\")"
   ]
  }
 ],
 "metadata": {
  "kernelspec": {
   "display_name": "oig",
   "language": "python",
   "name": "python3"
  },
  "language_info": {
   "codemirror_mode": {
    "name": "ipython",
    "version": 3
   },
   "file_extension": ".py",
   "mimetype": "text/x-python",
   "name": "python",
   "nbconvert_exporter": "python",
   "pygments_lexer": "ipython3",
   "version": "3.9.19"
  }
 },
 "nbformat": 4,
 "nbformat_minor": 2
}
