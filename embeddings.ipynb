{
 "cells": [
  {
   "cell_type": "code",
   "execution_count": 2,
   "metadata": {},
   "outputs": [],
   "source": [
    "import os\n",
    "from PyPDF2 import PdfReader"
   ]
  },
  {
   "cell_type": "code",
   "execution_count": 3,
   "metadata": {},
   "outputs": [],
   "source": [
    "def extract_text_from_pdf(pdf_path):\n",
    "    reader = PdfReader(pdf_path)\n",
    "    text = \"\"\n",
    "    for page in reader.pages:\n",
    "        text += page.extract_text()\n",
    "    return text"
   ]
  },
  {
   "cell_type": "code",
   "execution_count": 5,
   "metadata": {},
   "outputs": [],
   "source": [
    "\n",
    "pdf_files = [\"PDFs/administering-oracle-identity-governance.pdf\",\n",
    "             \"PDFs/developing-and-customizing-applications-oracle-identity-governance.pdf\",\n",
    "             \"PDFs/help-topics-oracle-identity-governance.pdf\",\n",
    "             \"PDFs/performing-self-service-tasks-oracle-identity-governance.pdf\",\n",
    "             \"PDFs/reference-oracle-identity-governance-docker-and-kubernetes.pdf\",\n",
    "             \"PDFs/release-notes-oracle-identity-management.pdf\",\n",
    "             \"PDFs/upgrading-oracle-identity-manager.pdf\"] \n",
    "all_texts = [extract_text_from_pdf(pdf) for pdf in pdf_files]\n"
   ]
  },
  {
   "cell_type": "code",
   "execution_count": 6,
   "metadata": {},
   "outputs": [],
   "source": [
    "# Save all texts to a .txt file\n",
    "output_file = \"all_texts.txt\"\n",
    "with open(output_file, 'w', encoding='utf-8') as f:\n",
    "    for i, text in enumerate(all_texts):\n",
    "        f.write(f\"Text from PDF {i + 1}:\\n\\n\")\n",
    "        f.write(text)\n",
    "        f.write(\"\\n\" + \"=\"*80 + \"\\n\")  "
   ]
  },
  {
   "cell_type": "code",
   "execution_count": 7,
   "metadata": {},
   "outputs": [],
   "source": [
    "from langchain.text_splitter import RecursiveCharacterTextSplitter\n",
    "\n",
    "def chunk_text(text, chunk_size=500, chunk_overlap=50):\n",
    "    text_splitter = RecursiveCharacterTextSplitter(\n",
    "        chunk_size=chunk_size,\n",
    "        chunk_overlap=chunk_overlap,\n",
    "        separators=[\"\\n\\n\", \"\\n\", \".\", \"!\", \"?\"]\n",
    "    )\n",
    "    return text_splitter.split_text(text)\n"
   ]
  },
  {
   "cell_type": "code",
   "execution_count": 8,
   "metadata": {},
   "outputs": [],
   "source": [
    "chunks = [chunk_text(text) for text in all_texts]"
   ]
  },
  {
   "cell_type": "code",
   "execution_count": 10,
   "metadata": {},
   "outputs": [],
   "source": [
    "from sentence_transformers import SentenceTransformer\n",
    "\n",
    "def create_embeddings(chunks):\n",
    "    model = SentenceTransformer('all-MiniLM-L12-v2') \n",
    "    embeddings = [model.encode(chunk) for chunk in chunks]\n",
    "    return embeddings\n"
   ]
  },
  {
   "cell_type": "code",
   "execution_count": 11,
   "metadata": {},
   "outputs": [
    {
     "name": "stderr",
     "output_type": "stream",
     "text": [
      "/home/opc/.conda/envs/oig/lib/python3.9/site-packages/transformers/tokenization_utils_base.py:1601: FutureWarning: `clean_up_tokenization_spaces` was not set. It will be set to `True` by default. This behavior will be depracted in transformers v4.45, and will be then set to `False` by default. For more details check this issue: https://github.com/huggingface/transformers/issues/31884\n",
      "  warnings.warn(\n"
     ]
    }
   ],
   "source": [
    "all_embeddings = [create_embeddings(chunk_list) for chunk_list in chunks]\n"
   ]
  },
  {
   "cell_type": "code",
   "execution_count": 12,
   "metadata": {},
   "outputs": [],
   "source": [
    "import pandas as pd\n",
    "\n",
    "def save_embeddings(embeddings, output_file):\n",
    "    flattened_embeddings = [embed.tolist() for sublist in embeddings for embed in sublist]\n",
    "    df = pd.DataFrame(flattened_embeddings)\n",
    "    df.to_csv(output_file, index=False)\n"
   ]
  },
  {
   "cell_type": "code",
   "execution_count": 13,
   "metadata": {},
   "outputs": [],
   "source": [
    "save_embeddings(all_embeddings, \"embeddings.csv\")"
   ]
  },
  {
   "cell_type": "code",
   "execution_count": 14,
   "metadata": {},
   "outputs": [],
   "source": [
    "def save_chunks_to_file(chunks, output_file):\n",
    "    with open(output_file, 'w', encoding='utf-8') as f:\n",
    "        for i, chunk_list in enumerate(chunks):\n",
    "            f.write(f\"PDF {i + 1} has {len(chunk_list)} chunks.\\n\")\n",
    "            for j, chunk in enumerate(chunk_list):\n",
    "                f.write(f\"\\nChunk {j + 1}:\\n{chunk}\\n\\n\")\n",
    "                \n",
    "save_chunks_to_file(chunks, \"all_chunks.txt\")\n"
   ]
  },
  {
   "cell_type": "code",
   "execution_count": 21,
   "metadata": {},
   "outputs": [],
   "source": [
    "from langchain_core.documents import Document\n",
    "\n",
    "def chunks_to_docs_wrapper(chunk_data):\n",
    "    return Document(page_content=chunk_data['text'], metadata={\"id\": chunk_data['id'], \"link\": chunk_data['link']})\n",
    "\n",
    "flat_chunks = [(page_num, chunk) for page_num, sublist in enumerate(chunks) for chunk in sublist]\n",
    "\n",
    "docs = [chunks_to_docs_wrapper({'id': page_num, 'link': f'Page {page_num}', 'text': text}) \n",
    "        for page_num, text in flat_chunks]"
   ]
  },
  {
   "cell_type": "code",
   "execution_count": null,
   "metadata": {},
   "outputs": [],
   "source": [
    "def save_docs_to_file(docs, output_file):\n",
    "    with open(output_file, 'w', encoding='utf-8') as f:\n",
    "        for i, doc in enumerate(docs):\n",
    "            f.write(f\"Document {i + 1}:\\n\")\n",
    "            f.write(f\"Metadata: {doc.metadata}\\n\")\n",
    "            f.write(f\"Content:\\n{doc.page_content}\\n\")\n",
    "            f.write(\"\\n\" + \"=\"*80 + \"\\n\")\n",
    "\n",
    "save_docs_to_file(docs, \"all_docs.txt\")"
   ]
  },
  {
   "cell_type": "code",
   "execution_count": 22,
   "metadata": {},
   "outputs": [],
   "source": [
    "from langchain_community.embeddings import HuggingFaceEmbeddings\n",
    "from langchain_community.vectorstores import OracleVS\n",
    "from langchain_community.vectorstores.utils import DistanceStrategy\n",
    "import oracledb\n",
    "import time \n",
    "from dotenv import load_dotenv"
   ]
  },
  {
   "cell_type": "code",
   "execution_count": 23,
   "metadata": {},
   "outputs": [],
   "source": [
    "model_4db = HuggingFaceEmbeddings(model_name=\"sentence-transformers/all-MiniLM-L12-v2\")"
   ]
  },
  {
   "cell_type": "code",
   "execution_count": 24,
   "metadata": {},
   "outputs": [
    {
     "name": "stdout",
     "output_type": "stream",
     "text": [
      "The database user name is: admin\n",
      "Connection successful!\n"
     ]
    }
   ],
   "source": [
    "load_dotenv()\n",
    "\n",
    "username = os.getenv(\"DB_USERNAME\")\n",
    "password = os.getenv(\"DB_PASSWORD\")\n",
    "dsn = os.getenv(\"DB_DSN\")\n",
    "COMPARTMENT_OCID = os.getenv(\"COMPARTMENT_OCID\")\n",
    "\n",
    "print(\"The database user name is:\", username)\n",
    "\n",
    "try: \n",
    "    conn23ai = oracledb.connect(user=username, password=password, dsn=dsn)\n",
    "    print(\"Connection successful!\")\n",
    "except Exception as e:\n",
    "    print(\"Connection failed!\")"
   ]
  },
  {
   "cell_type": "code",
   "execution_count": 25,
   "metadata": {},
   "outputs": [
    {
     "name": "stderr",
     "output_type": "stream",
     "text": [
      "2024-08-28 09:21:15,442 - ERROR - An unexpected error occurred: DPY-4011: the database or network closed the connection\n",
      "Help: https://python-oracledb.readthedocs.io/en/latest/user_guide/troubleshooting.html#dpy-4011\n",
      "Traceback (most recent call last):\n",
      "  File \"/home/opc/.conda/envs/oig/lib/python3.9/site-packages/langchain_community/vectorstores/oraclevs.py\", line 54, in wrapper\n",
      "    return func(*args, **kwargs)\n",
      "  File \"/home/opc/.conda/envs/oig/lib/python3.9/site-packages/langchain_community/vectorstores/oraclevs.py\", line 672, in add_texts\n",
      "    cursor.executemany(\n",
      "  File \"/home/opc/.conda/envs/oig/lib/python3.9/site-packages/oracledb-2.4.0b1-py3.9-linux-aarch64.egg/oracledb/cursor.py\", line 751, in executemany\n",
      "    self._impl.executemany(\n",
      "  File \"src/oracledb/impl/thin/cursor.pyx\", line 218, in oracledb.thin_impl.ThinCursorImpl.executemany\n",
      "  File \"src/oracledb/impl/thin/protocol.pyx\", line 440, in oracledb.thin_impl.Protocol._process_single_message\n",
      "  File \"src/oracledb/impl/thin/protocol.pyx\", line 441, in oracledb.thin_impl.Protocol._process_single_message\n",
      "  File \"src/oracledb/impl/thin/protocol.pyx\", line 409, in oracledb.thin_impl.Protocol._process_message\n",
      "  File \"src/oracledb/impl/thin/protocol.pyx\", line 482, in oracledb.thin_impl.Protocol._reset\n",
      "  File \"src/oracledb/impl/thin/packet.pyx\", line 700, in oracledb.thin_impl.ReadBuffer.wait_for_packets_sync\n",
      "  File \"src/oracledb/impl/thin/transport.pyx\", line 334, in oracledb.thin_impl.Transport.read_packet\n",
      "  File \"/home/opc/.conda/envs/oig/lib/python3.9/site-packages/oracledb-2.4.0b1-py3.9-linux-aarch64.egg/oracledb/errors.py\", line 182, in _raise_err\n",
      "    raise error.exc_type(error) from cause\n",
      "oracledb.exceptions.DatabaseError: DPY-4011: the database or network closed the connection\n",
      "Help: https://python-oracledb.readthedocs.io/en/latest/user_guide/troubleshooting.html#dpy-4011\n",
      "2024-08-28 09:21:15,455 - ERROR - DB-related error occurred.\n",
      "Traceback (most recent call last):\n",
      "  File \"/home/opc/.conda/envs/oig/lib/python3.9/site-packages/langchain_community/vectorstores/oraclevs.py\", line 54, in wrapper\n",
      "    return func(*args, **kwargs)\n",
      "  File \"/home/opc/.conda/envs/oig/lib/python3.9/site-packages/langchain_community/vectorstores/oraclevs.py\", line 672, in add_texts\n",
      "    cursor.executemany(\n",
      "  File \"/home/opc/.conda/envs/oig/lib/python3.9/site-packages/oracledb-2.4.0b1-py3.9-linux-aarch64.egg/oracledb/cursor.py\", line 751, in executemany\n",
      "    self._impl.executemany(\n",
      "  File \"src/oracledb/impl/thin/cursor.pyx\", line 218, in oracledb.thin_impl.ThinCursorImpl.executemany\n",
      "  File \"src/oracledb/impl/thin/protocol.pyx\", line 440, in oracledb.thin_impl.Protocol._process_single_message\n",
      "  File \"src/oracledb/impl/thin/protocol.pyx\", line 441, in oracledb.thin_impl.Protocol._process_single_message\n",
      "  File \"src/oracledb/impl/thin/protocol.pyx\", line 409, in oracledb.thin_impl.Protocol._process_message\n",
      "  File \"src/oracledb/impl/thin/protocol.pyx\", line 482, in oracledb.thin_impl.Protocol._reset\n",
      "  File \"src/oracledb/impl/thin/packet.pyx\", line 700, in oracledb.thin_impl.ReadBuffer.wait_for_packets_sync\n",
      "  File \"src/oracledb/impl/thin/transport.pyx\", line 334, in oracledb.thin_impl.Transport.read_packet\n",
      "  File \"/home/opc/.conda/envs/oig/lib/python3.9/site-packages/oracledb-2.4.0b1-py3.9-linux-aarch64.egg/oracledb/errors.py\", line 182, in _raise_err\n",
      "    raise error.exc_type(error) from cause\n",
      "oracledb.exceptions.DatabaseError: DPY-4011: the database or network closed the connection\n",
      "Help: https://python-oracledb.readthedocs.io/en/latest/user_guide/troubleshooting.html#dpy-4011\n",
      "\n",
      "The above exception was the direct cause of the following exception:\n",
      "\n",
      "Traceback (most recent call last):\n",
      "  File \"/home/opc/.conda/envs/oig/lib/python3.9/site-packages/langchain_community/vectorstores/oraclevs.py\", line 54, in wrapper\n",
      "    return func(*args, **kwargs)\n",
      "  File \"/home/opc/.conda/envs/oig/lib/python3.9/site-packages/langchain_community/vectorstores/oraclevs.py\", line 1082, in from_texts\n",
      "    vss.add_texts(texts=list(texts), metadatas=metadatas)\n",
      "  File \"/home/opc/.conda/envs/oig/lib/python3.9/site-packages/langchain_community/vectorstores/oraclevs.py\", line 68, in wrapper\n",
      "    raise RuntimeError(\"Unexpected error: {}\".format(e)) from e\n",
      "RuntimeError: Unexpected error: DPY-4011: the database or network closed the connection\n",
      "Help: https://python-oracledb.readthedocs.io/en/latest/user_guide/troubleshooting.html#dpy-4011\n"
     ]
    },
    {
     "ename": "RuntimeError",
     "evalue": "Failed due to a DB issue: Unexpected error: DPY-4011: the database or network closed the connection\nHelp: https://python-oracledb.readthedocs.io/en/latest/user_guide/troubleshooting.html#dpy-4011",
     "output_type": "error",
     "traceback": [
      "\u001b[0;31m---------------------------------------------------------------------------\u001b[0m",
      "\u001b[0;31mDatabaseError\u001b[0m                             Traceback (most recent call last)",
      "File \u001b[0;32m~/.conda/envs/oig/lib/python3.9/site-packages/langchain_community/vectorstores/oraclevs.py:54\u001b[0m, in \u001b[0;36m_handle_exceptions.<locals>.wrapper\u001b[0;34m(*args, **kwargs)\u001b[0m\n\u001b[1;32m     53\u001b[0m \u001b[38;5;28;01mtry\u001b[39;00m:\n\u001b[0;32m---> 54\u001b[0m     \u001b[38;5;28;01mreturn\u001b[39;00m \u001b[43mfunc\u001b[49m\u001b[43m(\u001b[49m\u001b[38;5;241;43m*\u001b[39;49m\u001b[43margs\u001b[49m\u001b[43m,\u001b[49m\u001b[43m \u001b[49m\u001b[38;5;241;43m*\u001b[39;49m\u001b[38;5;241;43m*\u001b[39;49m\u001b[43mkwargs\u001b[49m\u001b[43m)\u001b[49m\n\u001b[1;32m     55\u001b[0m \u001b[38;5;28;01mexcept\u001b[39;00m \u001b[38;5;167;01mRuntimeError\u001b[39;00m \u001b[38;5;28;01mas\u001b[39;00m db_err:\n\u001b[1;32m     56\u001b[0m     \u001b[38;5;66;03m# Handle a known type of error (e.g., DB-related) specifically\u001b[39;00m\n",
      "File \u001b[0;32m~/.conda/envs/oig/lib/python3.9/site-packages/langchain_community/vectorstores/oraclevs.py:672\u001b[0m, in \u001b[0;36mOracleVS.add_texts\u001b[0;34m(self, texts, metadatas, ids, **kwargs)\u001b[0m\n\u001b[1;32m    671\u001b[0m \u001b[38;5;28;01mwith\u001b[39;00m \u001b[38;5;28mself\u001b[39m\u001b[38;5;241m.\u001b[39mclient\u001b[38;5;241m.\u001b[39mcursor() \u001b[38;5;28;01mas\u001b[39;00m cursor:\n\u001b[0;32m--> 672\u001b[0m     \u001b[43mcursor\u001b[49m\u001b[38;5;241;43m.\u001b[39;49m\u001b[43mexecutemany\u001b[49m\u001b[43m(\u001b[49m\n\u001b[1;32m    673\u001b[0m \u001b[43m        \u001b[49m\u001b[38;5;124;43mf\u001b[39;49m\u001b[38;5;124;43m\"\u001b[39;49m\u001b[38;5;124;43mINSERT INTO \u001b[39;49m\u001b[38;5;132;43;01m{\u001b[39;49;00m\u001b[38;5;28;43mself\u001b[39;49m\u001b[38;5;241;43m.\u001b[39;49m\u001b[43mtable_name\u001b[49m\u001b[38;5;132;43;01m}\u001b[39;49;00m\u001b[38;5;124;43m (id, embedding, metadata, \u001b[39;49m\u001b[38;5;124;43m\"\u001b[39;49m\n\u001b[1;32m    674\u001b[0m \u001b[43m        \u001b[49m\u001b[38;5;124;43mf\u001b[39;49m\u001b[38;5;124;43m\"\u001b[39;49m\u001b[38;5;124;43mtext) VALUES (:1, :2, :3, :4)\u001b[39;49m\u001b[38;5;124;43m\"\u001b[39;49m\u001b[43m,\u001b[49m\n\u001b[1;32m    675\u001b[0m \u001b[43m        \u001b[49m\u001b[43mdocs\u001b[49m\u001b[43m,\u001b[49m\n\u001b[1;32m    676\u001b[0m \u001b[43m    \u001b[49m\u001b[43m)\u001b[49m\n\u001b[1;32m    677\u001b[0m     \u001b[38;5;28mself\u001b[39m\u001b[38;5;241m.\u001b[39mclient\u001b[38;5;241m.\u001b[39mcommit()\n",
      "File \u001b[0;32m~/.conda/envs/oig/lib/python3.9/site-packages/oracledb-2.4.0b1-py3.9-linux-aarch64.egg/oracledb/cursor.py:751\u001b[0m, in \u001b[0;36mCursor.executemany\u001b[0;34m(self, statement, parameters, batcherrors, arraydmlrowcounts)\u001b[0m\n\u001b[1;32m    748\u001b[0m num_execs \u001b[38;5;241m=\u001b[39m \u001b[38;5;28mself\u001b[39m\u001b[38;5;241m.\u001b[39m_impl\u001b[38;5;241m.\u001b[39m_prepare_for_executemany(\n\u001b[1;32m    749\u001b[0m     \u001b[38;5;28mself\u001b[39m, statement, parameters\n\u001b[1;32m    750\u001b[0m )\n\u001b[0;32m--> 751\u001b[0m \u001b[38;5;28;43mself\u001b[39;49m\u001b[38;5;241;43m.\u001b[39;49m\u001b[43m_impl\u001b[49m\u001b[38;5;241;43m.\u001b[39;49m\u001b[43mexecutemany\u001b[49m\u001b[43m(\u001b[49m\n\u001b[1;32m    752\u001b[0m \u001b[43m    \u001b[49m\u001b[38;5;28;43mself\u001b[39;49m\u001b[43m,\u001b[49m\u001b[43m \u001b[49m\u001b[43mnum_execs\u001b[49m\u001b[43m,\u001b[49m\u001b[43m \u001b[49m\u001b[38;5;28;43mbool\u001b[39;49m\u001b[43m(\u001b[49m\u001b[43mbatcherrors\u001b[49m\u001b[43m)\u001b[49m\u001b[43m,\u001b[49m\u001b[43m \u001b[49m\u001b[38;5;28;43mbool\u001b[39;49m\u001b[43m(\u001b[49m\u001b[43marraydmlrowcounts\u001b[49m\u001b[43m)\u001b[49m\n\u001b[1;32m    753\u001b[0m \u001b[43m\u001b[49m\u001b[43m)\u001b[49m\n",
      "File \u001b[0;32msrc/oracledb/impl/thin/cursor.pyx:218\u001b[0m, in \u001b[0;36moracledb.thin_impl.ThinCursorImpl.executemany\u001b[0;34m()\u001b[0m\n",
      "File \u001b[0;32msrc/oracledb/impl/thin/protocol.pyx:440\u001b[0m, in \u001b[0;36moracledb.thin_impl.Protocol._process_single_message\u001b[0;34m()\u001b[0m\n",
      "File \u001b[0;32msrc/oracledb/impl/thin/protocol.pyx:441\u001b[0m, in \u001b[0;36moracledb.thin_impl.Protocol._process_single_message\u001b[0;34m()\u001b[0m\n",
      "File \u001b[0;32msrc/oracledb/impl/thin/protocol.pyx:409\u001b[0m, in \u001b[0;36moracledb.thin_impl.Protocol._process_message\u001b[0;34m()\u001b[0m\n",
      "File \u001b[0;32msrc/oracledb/impl/thin/protocol.pyx:482\u001b[0m, in \u001b[0;36moracledb.thin_impl.Protocol._reset\u001b[0;34m()\u001b[0m\n",
      "File \u001b[0;32msrc/oracledb/impl/thin/packet.pyx:700\u001b[0m, in \u001b[0;36moracledb.thin_impl.ReadBuffer.wait_for_packets_sync\u001b[0;34m()\u001b[0m\n",
      "File \u001b[0;32msrc/oracledb/impl/thin/transport.pyx:334\u001b[0m, in \u001b[0;36moracledb.thin_impl.Transport.read_packet\u001b[0;34m()\u001b[0m\n",
      "File \u001b[0;32m~/.conda/envs/oig/lib/python3.9/site-packages/oracledb-2.4.0b1-py3.9-linux-aarch64.egg/oracledb/errors.py:182\u001b[0m, in \u001b[0;36m_raise_err\u001b[0;34m(error_num, context_error_message, cause, **args)\u001b[0m\n\u001b[1;32m    181\u001b[0m error \u001b[38;5;241m=\u001b[39m _Error(message)\n\u001b[0;32m--> 182\u001b[0m \u001b[38;5;28;01mraise\u001b[39;00m error\u001b[38;5;241m.\u001b[39mexc_type(error) \u001b[38;5;28;01mfrom\u001b[39;00m \u001b[38;5;21;01mcause\u001b[39;00m\n",
      "\u001b[0;31mDatabaseError\u001b[0m: DPY-4011: the database or network closed the connection\nHelp: https://python-oracledb.readthedocs.io/en/latest/user_guide/troubleshooting.html#dpy-4011",
      "\nThe above exception was the direct cause of the following exception:\n",
      "\u001b[0;31mRuntimeError\u001b[0m                              Traceback (most recent call last)",
      "File \u001b[0;32m~/.conda/envs/oig/lib/python3.9/site-packages/langchain_community/vectorstores/oraclevs.py:54\u001b[0m, in \u001b[0;36m_handle_exceptions.<locals>.wrapper\u001b[0;34m(*args, **kwargs)\u001b[0m\n\u001b[1;32m     53\u001b[0m \u001b[38;5;28;01mtry\u001b[39;00m:\n\u001b[0;32m---> 54\u001b[0m     \u001b[38;5;28;01mreturn\u001b[39;00m \u001b[43mfunc\u001b[49m\u001b[43m(\u001b[49m\u001b[38;5;241;43m*\u001b[39;49m\u001b[43margs\u001b[49m\u001b[43m,\u001b[49m\u001b[43m \u001b[49m\u001b[38;5;241;43m*\u001b[39;49m\u001b[38;5;241;43m*\u001b[39;49m\u001b[43mkwargs\u001b[49m\u001b[43m)\u001b[49m\n\u001b[1;32m     55\u001b[0m \u001b[38;5;28;01mexcept\u001b[39;00m \u001b[38;5;167;01mRuntimeError\u001b[39;00m \u001b[38;5;28;01mas\u001b[39;00m db_err:\n\u001b[1;32m     56\u001b[0m     \u001b[38;5;66;03m# Handle a known type of error (e.g., DB-related) specifically\u001b[39;00m\n",
      "File \u001b[0;32m~/.conda/envs/oig/lib/python3.9/site-packages/langchain_community/vectorstores/oraclevs.py:1082\u001b[0m, in \u001b[0;36mOracleVS.from_texts\u001b[0;34m(cls, texts, embedding, metadatas, **kwargs)\u001b[0m\n\u001b[1;32m   1074\u001b[0m vss \u001b[38;5;241m=\u001b[39m \u001b[38;5;28mcls\u001b[39m(\n\u001b[1;32m   1075\u001b[0m     client\u001b[38;5;241m=\u001b[39mclient,\n\u001b[1;32m   1076\u001b[0m     embedding_function\u001b[38;5;241m=\u001b[39membedding,\n\u001b[0;32m   (...)\u001b[0m\n\u001b[1;32m   1080\u001b[0m     params\u001b[38;5;241m=\u001b[39mparams,\n\u001b[1;32m   1081\u001b[0m )\n\u001b[0;32m-> 1082\u001b[0m \u001b[43mvss\u001b[49m\u001b[38;5;241;43m.\u001b[39;49m\u001b[43madd_texts\u001b[49m\u001b[43m(\u001b[49m\u001b[43mtexts\u001b[49m\u001b[38;5;241;43m=\u001b[39;49m\u001b[38;5;28;43mlist\u001b[39;49m\u001b[43m(\u001b[49m\u001b[43mtexts\u001b[49m\u001b[43m)\u001b[49m\u001b[43m,\u001b[49m\u001b[43m \u001b[49m\u001b[43mmetadatas\u001b[49m\u001b[38;5;241;43m=\u001b[39;49m\u001b[43mmetadatas\u001b[49m\u001b[43m)\u001b[49m\n\u001b[1;32m   1083\u001b[0m \u001b[38;5;28;01mreturn\u001b[39;00m vss\n",
      "File \u001b[0;32m~/.conda/envs/oig/lib/python3.9/site-packages/langchain_community/vectorstores/oraclevs.py:68\u001b[0m, in \u001b[0;36m_handle_exceptions.<locals>.wrapper\u001b[0;34m(*args, **kwargs)\u001b[0m\n\u001b[1;32m     67\u001b[0m logger\u001b[38;5;241m.\u001b[39mexception(\u001b[38;5;124m\"\u001b[39m\u001b[38;5;124mAn unexpected error occurred: \u001b[39m\u001b[38;5;132;01m{}\u001b[39;00m\u001b[38;5;124m\"\u001b[39m\u001b[38;5;241m.\u001b[39mformat(e))\n\u001b[0;32m---> 68\u001b[0m \u001b[38;5;28;01mraise\u001b[39;00m \u001b[38;5;167;01mRuntimeError\u001b[39;00m(\u001b[38;5;124m\"\u001b[39m\u001b[38;5;124mUnexpected error: \u001b[39m\u001b[38;5;132;01m{}\u001b[39;00m\u001b[38;5;124m\"\u001b[39m\u001b[38;5;241m.\u001b[39mformat(e)) \u001b[38;5;28;01mfrom\u001b[39;00m \u001b[38;5;21;01me\u001b[39;00m\n",
      "\u001b[0;31mRuntimeError\u001b[0m: Unexpected error: DPY-4011: the database or network closed the connection\nHelp: https://python-oracledb.readthedocs.io/en/latest/user_guide/troubleshooting.html#dpy-4011",
      "\nThe above exception was the direct cause of the following exception:\n",
      "\u001b[0;31mRuntimeError\u001b[0m                              Traceback (most recent call last)",
      "Cell \u001b[0;32mIn[25], line 2\u001b[0m\n\u001b[1;32m      1\u001b[0m s1time \u001b[38;5;241m=\u001b[39m time\u001b[38;5;241m.\u001b[39mtime()\n\u001b[0;32m----> 2\u001b[0m knowledge_base \u001b[38;5;241m=\u001b[39m \u001b[43mOracleVS\u001b[49m\u001b[38;5;241;43m.\u001b[39;49m\u001b[43mfrom_documents\u001b[49m\u001b[43m(\u001b[49m\u001b[43mdocs\u001b[49m\u001b[43m,\u001b[49m\u001b[43m \u001b[49m\u001b[43mmodel_4db\u001b[49m\u001b[43m,\u001b[49m\u001b[43m \u001b[49m\u001b[43mclient\u001b[49m\u001b[38;5;241;43m=\u001b[39;49m\u001b[43mconn23ai\u001b[49m\u001b[43m,\u001b[49m\u001b[43m \u001b[49m\n\u001b[1;32m      3\u001b[0m \u001b[43m                                         \u001b[49m\u001b[43mtable_name\u001b[49m\u001b[38;5;241;43m=\u001b[39;49m\u001b[38;5;124;43m\"\u001b[39;49m\u001b[38;5;124;43mOIG_vector\u001b[39;49m\u001b[38;5;124;43m\"\u001b[39;49m\u001b[43m,\u001b[49m\u001b[43m \u001b[49m\u001b[43mdistance_strategy\u001b[49m\u001b[38;5;241;43m=\u001b[39;49m\u001b[43mDistanceStrategy\u001b[49m\u001b[38;5;241;43m.\u001b[39;49m\u001b[43mCOSINE\u001b[49m\u001b[43m)\u001b[49m\n\u001b[1;32m      4\u001b[0m s2time \u001b[38;5;241m=\u001b[39m time\u001b[38;5;241m.\u001b[39mtime()\n\u001b[1;32m      6\u001b[0m \u001b[38;5;28mprint\u001b[39m(\u001b[38;5;124mf\u001b[39m\u001b[38;5;124m\"\u001b[39m\u001b[38;5;124mVectorizing and inserting chunks duration: \u001b[39m\u001b[38;5;132;01m{\u001b[39;00m\u001b[38;5;28mround\u001b[39m(s2time\u001b[38;5;250m \u001b[39m\u001b[38;5;241m-\u001b[39m\u001b[38;5;250m \u001b[39ms1time,\u001b[38;5;250m \u001b[39m\u001b[38;5;241m1\u001b[39m)\u001b[38;5;132;01m}\u001b[39;00m\u001b[38;5;124m sec.\u001b[39m\u001b[38;5;124m\"\u001b[39m)\n",
      "File \u001b[0;32m~/.conda/envs/oig/lib/python3.9/site-packages/langchain_core/vectorstores/base.py:1058\u001b[0m, in \u001b[0;36mVectorStore.from_documents\u001b[0;34m(cls, documents, embedding, **kwargs)\u001b[0m\n\u001b[1;32m   1056\u001b[0m texts \u001b[38;5;241m=\u001b[39m [d\u001b[38;5;241m.\u001b[39mpage_content \u001b[38;5;28;01mfor\u001b[39;00m d \u001b[38;5;129;01min\u001b[39;00m documents]\n\u001b[1;32m   1057\u001b[0m metadatas \u001b[38;5;241m=\u001b[39m [d\u001b[38;5;241m.\u001b[39mmetadata \u001b[38;5;28;01mfor\u001b[39;00m d \u001b[38;5;129;01min\u001b[39;00m documents]\n\u001b[0;32m-> 1058\u001b[0m \u001b[38;5;28;01mreturn\u001b[39;00m \u001b[38;5;28;43mcls\u001b[39;49m\u001b[38;5;241;43m.\u001b[39;49m\u001b[43mfrom_texts\u001b[49m\u001b[43m(\u001b[49m\u001b[43mtexts\u001b[49m\u001b[43m,\u001b[49m\u001b[43m \u001b[49m\u001b[43membedding\u001b[49m\u001b[43m,\u001b[49m\u001b[43m \u001b[49m\u001b[43mmetadatas\u001b[49m\u001b[38;5;241;43m=\u001b[39;49m\u001b[43mmetadatas\u001b[49m\u001b[43m,\u001b[49m\u001b[43m \u001b[49m\u001b[38;5;241;43m*\u001b[39;49m\u001b[38;5;241;43m*\u001b[39;49m\u001b[43mkwargs\u001b[49m\u001b[43m)\u001b[49m\n",
      "File \u001b[0;32m~/.conda/envs/oig/lib/python3.9/site-packages/langchain_community/vectorstores/oraclevs.py:58\u001b[0m, in \u001b[0;36m_handle_exceptions.<locals>.wrapper\u001b[0;34m(*args, **kwargs)\u001b[0m\n\u001b[1;32m     55\u001b[0m \u001b[38;5;28;01mexcept\u001b[39;00m \u001b[38;5;167;01mRuntimeError\u001b[39;00m \u001b[38;5;28;01mas\u001b[39;00m db_err:\n\u001b[1;32m     56\u001b[0m     \u001b[38;5;66;03m# Handle a known type of error (e.g., DB-related) specifically\u001b[39;00m\n\u001b[1;32m     57\u001b[0m     logger\u001b[38;5;241m.\u001b[39mexception(\u001b[38;5;124m\"\u001b[39m\u001b[38;5;124mDB-related error occurred.\u001b[39m\u001b[38;5;124m\"\u001b[39m)\n\u001b[0;32m---> 58\u001b[0m     \u001b[38;5;28;01mraise\u001b[39;00m \u001b[38;5;167;01mRuntimeError\u001b[39;00m(\n\u001b[1;32m     59\u001b[0m         \u001b[38;5;124m\"\u001b[39m\u001b[38;5;124mFailed due to a DB issue: \u001b[39m\u001b[38;5;132;01m{}\u001b[39;00m\u001b[38;5;124m\"\u001b[39m\u001b[38;5;241m.\u001b[39mformat(db_err)\n\u001b[1;32m     60\u001b[0m     ) \u001b[38;5;28;01mfrom\u001b[39;00m \u001b[38;5;21;01mdb_err\u001b[39;00m\n\u001b[1;32m     61\u001b[0m \u001b[38;5;28;01mexcept\u001b[39;00m \u001b[38;5;167;01mValueError\u001b[39;00m \u001b[38;5;28;01mas\u001b[39;00m val_err:\n\u001b[1;32m     62\u001b[0m     \u001b[38;5;66;03m# Handle another known type of error specifically\u001b[39;00m\n\u001b[1;32m     63\u001b[0m     logger\u001b[38;5;241m.\u001b[39mexception(\u001b[38;5;124m\"\u001b[39m\u001b[38;5;124mValidation error.\u001b[39m\u001b[38;5;124m\"\u001b[39m)\n",
      "\u001b[0;31mRuntimeError\u001b[0m: Failed due to a DB issue: Unexpected error: DPY-4011: the database or network closed the connection\nHelp: https://python-oracledb.readthedocs.io/en/latest/user_guide/troubleshooting.html#dpy-4011"
     ]
    }
   ],
   "source": [
    "s1time = time.time()\n",
    "knowledge_base = OracleVS.from_documents(docs, model_4db, client=conn23ai, \n",
    "                                         table_name=\"OIG_vector\", distance_strategy=DistanceStrategy.COSINE)\n",
    "s2time = time.time()\n",
    "\n",
    "print(f\"Vectorizing and inserting chunks duration: {round(s2time - s1time, 1)} sec.\")"
   ]
  },
  {
   "cell_type": "code",
   "execution_count": 26,
   "metadata": {},
   "outputs": [
    {
     "name": "stdout",
     "output_type": "stream",
     "text": [
      "admin\n",
      "Keyboardbox123\n",
      "(description= (address=(protocol=tcps)(port=1521)(host=adb.us-chicago-1.oraclecloud.com))(connect_data=(service_name=ged76958061af0b_oigchatbot_medium.adb.oraclecloud.com))(security=(ssl_server_dn_match=yes)))\n"
     ]
    }
   ],
   "source": [
    "username = os.getenv(\"DB_USERNAME\")\n",
    "password = os.getenv(\"DB_PASSWORD\")\n",
    "dsn = os.getenv(\"DB_DSN\")\n",
    "print(username)\n",
    "print(password)\n",
    "print(dsn)"
   ]
  },
  {
   "cell_type": "code",
   "execution_count": 28,
   "metadata": {},
   "outputs": [
    {
     "name": "stdout",
     "output_type": "stream",
     "text": [
      "Oracledb version: 2.4.0b1\n",
      "Connection successful!\n"
     ]
    }
   ],
   "source": [
    "import oracledb\n",
    "import os\n",
    "\n",
    "print(\"Oracledb version:\", oracledb.__version__)\n",
    "\n",
    "username = \"admin\"\n",
    "password = \"Keyboardbox123\"\n",
    "dsn = \"(description= (address=(protocol=tcps)(port=1521)(host=adb.us-chicago-1.oraclecloud.com))(connect_data=(service_name=ged76958061af0b_oigchatbot_medium.adb.oraclecloud.com))(security=(ssl_server_dn_match=yes)))\"\n",
    "\n",
    "try: \n",
    "    conn23ai = oracledb.connect(user=username, password=password, dsn=dsn)\n",
    "    print(\"Connection successful!\")\n",
    "except Exception as e:\n",
    "    print(\"Connection failed!\")"
   ]
  }
 ],
 "metadata": {
  "kernelspec": {
   "display_name": "oig",
   "language": "python",
   "name": "python3"
  },
  "language_info": {
   "codemirror_mode": {
    "name": "ipython",
    "version": 3
   },
   "file_extension": ".py",
   "mimetype": "text/x-python",
   "name": "python",
   "nbconvert_exporter": "python",
   "pygments_lexer": "ipython3",
   "version": "3.9.19"
  }
 },
 "nbformat": 4,
 "nbformat_minor": 2
}
